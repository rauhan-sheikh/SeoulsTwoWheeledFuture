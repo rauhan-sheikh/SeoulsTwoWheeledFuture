{
 "cells": [
  {
   "cell_type": "code",
   "execution_count": 1,
   "id": "342f4dc2",
   "metadata": {},
   "outputs": [],
   "source": [
    "import pickle\n",
    "import pandas as pd\n",
    "import numpy as np\n",
    "from models.preprocessing import date_tf, day_name_tf"
   ]
  },
  {
   "cell_type": "code",
   "execution_count": 2,
   "id": "78eeb735",
   "metadata": {},
   "outputs": [],
   "source": [
    "model_path = r'models\\xgb_regressor_r2_0_932_v1.pkl'\n",
    "model = pickle.load(open(model_path, 'rb'))"
   ]
  },
  {
   "cell_type": "code",
   "execution_count": 3,
   "id": "2e9d9e9c",
   "metadata": {},
   "outputs": [
    {
     "data": {
      "text/plain": [
       "array([2850.1448, 1826.1165,  289.7401], dtype=float32)"
      ]
     },
     "execution_count": 3,
     "metadata": {},
     "output_type": "execute_result"
    }
   ],
   "source": [
    "data = [[ 0.94310902,  0.94865461, -0.05514281,  1.13455708, -0.22218082,\n",
    "       -0.01216132, -0.12711063, -0.17244479,  0.36974466, -0.1570012 ,\n",
    "        0.30599503, -0.58064567,  1.74332816, -0.57251696,  0.22996655,\n",
    "        0.18790429, -0.3972065 , -0.40964053, -0.41839013, -0.40630934,\n",
    "        2.42850526, -0.41343357],\n",
    "       [ 1.23171249,  0.91496974, -0.44836678,  1.51991881,  0.92633556,\n",
    "       -0.65659629, -0.12711063, -0.17244479, -0.76290847, -0.73487114,\n",
    "        0.30599503, -0.58064567, -0.57361547, -0.57251696,  0.22996655,\n",
    "        0.18790429,  2.51758215, -0.40964053, -0.41839013, -0.40630934,\n",
    "       -0.41177593, -0.41343357],\n",
    "       [-0.06700312, -0.65137653,  1.41944704, -0.31054943, -1.83240407,\n",
    "       -0.3689021 , -0.12711063, -0.17244479, -0.42311253, -1.02380612,\n",
    "       -3.26802693, -0.58064567, -0.57361547,  1.74667314,  0.22996655,\n",
    "        0.18790429, -0.3972065 , -0.40964053,  2.39011374, -0.40630934,\n",
    "       -0.41177593, -0.41343357]]\n",
    "model.predict(data)"
   ]
  },
  {
   "cell_type": "markdown",
   "id": "8fff5f24",
   "metadata": {},
   "source": [
    "## Checking Pipeline"
   ]
  },
  {
   "cell_type": "code",
   "execution_count": 4,
   "id": "e052d162",
   "metadata": {},
   "outputs": [],
   "source": [
    "pipe = pickle.load(open(r'models\\xgb_regressor_pipeline_r2_0_932_v1.pkl','rb'))"
   ]
  },
  {
   "cell_type": "code",
   "execution_count": 5,
   "id": "5ee0d042",
   "metadata": {},
   "outputs": [],
   "source": [
    "today = {'Date': {6719: '06/09/2018', 4989: '26/06/2018'},\n",
    " 'Hour': {6719: 23, 4989: 21},\n",
    " 'Temperature(°C)': {6719: 23.9, 4989: 23.5},\n",
    " 'Humidity(%)': {6719: 71, 4989: 94},\n",
    " 'Wind speed (m/s)': {6719: 4.7, 4989: 4.6},\n",
    " 'Visibility (10m)': {6719: 1982, 4989: 227},\n",
    " 'Dew point temperature(°C)': {6719: 18.3, 4989: 22.4},\n",
    " 'Solar Radiation (MJ/m2)': {6719: 0.0, 4989: 0.0},\n",
    " 'Rainfall(mm)': {6719: 0.0, 4989: 1.5},\n",
    " 'Snowfall (cm)': {6719: 0.0, 4989: 0.0},\n",
    " 'Seasons': {6719: 'Autumn', 4989: 'Summer'},\n",
    " 'Holiday': {6719: 'No Holiday', 4989: 'No Holiday'},\n",
    " 'Functioning Day': {6719: 'Yes', 4989: 'Yes'}}\n",
    "\n",
    "toy_data = pd.DataFrame(today)"
   ]
  },
  {
   "cell_type": "code",
   "execution_count": 6,
   "id": "e80e6938",
   "metadata": {},
   "outputs": [
    {
     "data": {
      "text/plain": [
       "(2, 13)"
      ]
     },
     "execution_count": 6,
     "metadata": {},
     "output_type": "execute_result"
    }
   ],
   "source": [
    "toy_data.shape"
   ]
  },
  {
   "cell_type": "code",
   "execution_count": 7,
   "id": "d1db4474",
   "metadata": {},
   "outputs": [
    {
     "data": {
      "text/plain": [
       "array([692.4396 , 258.93246], dtype=float32)"
      ]
     },
     "execution_count": 7,
     "metadata": {},
     "output_type": "execute_result"
    }
   ],
   "source": [
    "pipe.predict(toy_data)"
   ]
  },
  {
   "cell_type": "code",
   "execution_count": null,
   "id": "c99d58ce",
   "metadata": {},
   "outputs": [],
   "source": []
  }
 ],
 "metadata": {
  "kernelspec": {
   "display_name": "Python 3",
   "language": "python",
   "name": "python3"
  },
  "language_info": {
   "codemirror_mode": {
    "name": "ipython",
    "version": 3
   },
   "file_extension": ".py",
   "mimetype": "text/x-python",
   "name": "python",
   "nbconvert_exporter": "python",
   "pygments_lexer": "ipython3",
   "version": "3.8.16"
  }
 },
 "nbformat": 4,
 "nbformat_minor": 5
}
